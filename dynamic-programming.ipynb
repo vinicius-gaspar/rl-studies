{
 "cells": [
  {
   "cell_type": "code",
   "execution_count": 1,
   "id": "05e31242",
   "metadata": {},
   "outputs": [],
   "source": [
    "import numpy as np\n",
    "import matplotlib.pyplot as plt\n",
    "import random"
   ]
  },
  {
   "cell_type": "code",
   "execution_count": 96,
   "id": "4825db6c",
   "metadata": {},
   "outputs": [],
   "source": [
    "class GridWorld:\n",
    "    \n",
    "    def __init__(self, w, h, ts):\n",
    "        self.world_height = h\n",
    "        self.world_width = w\n",
    "        self.values = np.zeros((h,w))\n",
    "        self.terminal_states = ts\n",
    "            \n",
    "    def transition_to_next_state(self, state, action, values):\n",
    "        \n",
    "        x = state[1]\n",
    "        y = state[0]\n",
    "        v_next = values[x,y]\n",
    "\n",
    "        if state in self.terminal_states:\n",
    "            return v_next, 0.0, 1.0\n",
    "\n",
    "        if action == 'up':\n",
    "            if (y-1) >= 0:\n",
    "                v_next = values[x,y-1]\n",
    "        elif action == 'down':\n",
    "            if (y+1) < self.world_height:\n",
    "                v_next = values[x,y+1]\n",
    "        elif action == 'right':\n",
    "            if (x+1) < self.world_width:\n",
    "                v_next = values[x+1,y]\n",
    "        elif action == 'left':\n",
    "            if (x-1) >= 0:\n",
    "                v_next = values[x-1,y]\n",
    "\n",
    "        return v_next, -1.0, 1.0\n",
    "        \n",
    "    def policy_evaluation(self, discount, accuracy_threshold, policy):\n",
    "        \n",
    "        delta = 2 * accuracy_threshold\n",
    "        \n",
    "        while delta > accuracy_threshold:\n",
    "            delta = 0\n",
    "            current_values = np.copy(self.values)\n",
    "            for state, value in np.ndenumerate(current_values):\n",
    "                value = 0\n",
    "                for action, probability_of_action in policy[state].items():\n",
    "                    value_on_next_state, reward, transition_probability = self.transition_to_next_state(state, action, current_values)\n",
    "                    value += probability_of_action * transition_probability * ( reward + discount * value_on_next_state )\n",
    "                    self.values[state] = value\n",
    "            delta = np.amax(np.absolute(current_values-self.values))\n",
    "        \n",
    "    def best_policy(self, state, discount):\n",
    "        \n",
    "        actions = ['up', 'down', 'left', 'right']\n",
    "        action_value = [0.0, 0.0, 0.0, 0.0]\n",
    "        \n",
    "        for action in actions:\n",
    "            value_on_next_state, reward, transition_probability = self.transition_to_next_state(state, action, self.values)\n",
    "            idx = actions.index(action)\n",
    "            action_value[idx] = transition_probability * ( reward + discount * value_on_next_state )\n",
    "        idx_max_action_value = action_value.index(max(action_value))\n",
    "        \n",
    "        new_greedy_policy = {'up':0.0, 'down':0.0, 'right':0.0, 'left':0.0}\n",
    "        new_greedy_policy[actions[idx_max_action_value]] = 1.0\n",
    "        return new_greedy_policy\n",
    "        \n",
    "    \n",
    "    def policy_improvment(self, discount, accuracy_threshold, policy):\n",
    "        \n",
    "        policy_stable = True\n",
    "        old_policy = np.copy(policy)\n",
    "        for state, value in np.ndenumerate(self.values):\n",
    "            policy[state] = self.best_policy(state, discount)\n",
    "            if old_policy[state] != policy[state]:\n",
    "                policy_stable = False\n",
    "        return policy, policy_stable\n",
    "            \n",
    "            \n",
    "    def policy_iteration(self, discount, accuracy_threshold, policy):\n",
    "        \n",
    "        while True:\n",
    "            self.policy_evaluation(discount, accuracy_threshold, policy)\n",
    "            policy, policy_stable = self.policy_improvment(discount, accuracy_threshold, policy)\n",
    "            if policy_stable:\n",
    "                break\n"
   ]
  },
  {
   "cell_type": "code",
   "execution_count": 91,
   "id": "17bf3363",
   "metadata": {},
   "outputs": [
    {
     "data": {
      "text/plain": [
       "array([[ 0.        , -5.27748322, -7.1279106 , -7.64996138],\n",
       "       [-5.27748322, -6.60585983, -7.18012478, -7.1279106 ],\n",
       "       [-7.1279106 , -7.18012478, -6.60585983, -5.27748322],\n",
       "       [-7.64996138, -7.1279106 , -5.27748322,  0.        ]])"
      ]
     },
     "execution_count": 91,
     "metadata": {},
     "output_type": "execute_result"
    }
   ],
   "source": [
    "gridworld = GridWorld(4,4,[(0,0), (3,3)])\n",
    "policy = np.full((gridworld.world_height, gridworld.world_width), {'up':0.25, 'down':0.25, 'right':0.25, 'left':0.25})\n",
    "gridworld.policy_evaluation(0.9, 0.0001, policy)\n",
    "gridworld.values"
   ]
  },
  {
   "cell_type": "code",
   "execution_count": 92,
   "id": "d1e04e04",
   "metadata": {},
   "outputs": [],
   "source": [
    "gridworld = GridWorld(4,4,[(0,0), (3,3)])\n",
    "policy = np.full((gridworld.world_height, gridworld.world_width), {'up':0.25, 'down':0.25, 'right':0.25, 'left':0.25})\n",
    "gridworld.policy_iteration(0.9, 0.0001, policy)"
   ]
  },
  {
   "cell_type": "code",
   "execution_count": 93,
   "id": "7760825b",
   "metadata": {},
   "outputs": [],
   "source": [
    "gridworld = GridWorld(4,4,[(0,0), (3,3)])\n",
    "policy = np.full((gridworld.world_height, gridworld.world_width), {'up':1.0, 'down':0.0, 'right':0.0, 'left':0.0})\n",
    "gridworld.policy_iteration(0.9, 0.0001, policy)"
   ]
  },
  {
   "cell_type": "code",
   "execution_count": null,
   "id": "25c962df",
   "metadata": {},
   "outputs": [],
   "source": []
  }
 ],
 "metadata": {
  "kernelspec": {
   "display_name": "Python 3 (ipykernel)",
   "language": "python",
   "name": "python3"
  },
  "language_info": {
   "codemirror_mode": {
    "name": "ipython",
    "version": 3
   },
   "file_extension": ".py",
   "mimetype": "text/x-python",
   "name": "python",
   "nbconvert_exporter": "python",
   "pygments_lexer": "ipython3",
   "version": "3.9.16"
  }
 },
 "nbformat": 4,
 "nbformat_minor": 5
}
