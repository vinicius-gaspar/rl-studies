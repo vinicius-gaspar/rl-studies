{
 "cells": [
  {
   "cell_type": "code",
   "execution_count": 2,
   "id": "05e31242",
   "metadata": {},
   "outputs": [],
   "source": [
    "import numpy as np\n",
    "import matplotlib.pyplot as plt"
   ]
  },
  {
   "cell_type": "code",
   "execution_count": 134,
   "id": "4825db6c",
   "metadata": {},
   "outputs": [],
   "source": [
    "class GridWorld:\n",
    "    \n",
    "    def __init__(self, w, h, ts):\n",
    "        self.world_height = h\n",
    "        self.world_width = w\n",
    "        self.values = np.zeros((h,w))\n",
    "        self.terminal_states = ts\n",
    "            \n",
    "    def transition_to_next_state(self, state, action, values):\n",
    "        \n",
    "        x = state[0]\n",
    "        y = state[1]\n",
    "        v_next = values[x,y]\n",
    "\n",
    "        if state in self.terminal_states:\n",
    "            return v_next, 0.0, 1.0\n",
    "\n",
    "        if action == 'up':\n",
    "            if (y-1) >= 0:\n",
    "                v_next = values[x,y-1]\n",
    "        elif action == 'down':\n",
    "            if (y+1) < self.world_height:\n",
    "                v_next = values[x,y+1]\n",
    "        elif action == 'right':\n",
    "            if (x+1) < self.world_width:\n",
    "                v_next = values[x+1,y]\n",
    "        elif action == 'left':\n",
    "            if (x-1) >= 0:\n",
    "                v_next = values[x-1,y]\n",
    "\n",
    "        return v_next, -1.0, 1.0\n",
    "        \n",
    "    def policy_evaluation(self, discount, accuracy_threshold, policy):\n",
    "        \n",
    "        steps = 0\n",
    "        delta = 1.0\n",
    "        \n",
    "        while delta > accuracy_threshold: #delta > accuracy_threshold :\n",
    "            \n",
    "            current_values = np.copy(self.values)\n",
    "            for state, value in np.ndenumerate(current_values):\n",
    "                value = 0\n",
    "                for action, probability_of_action in policy[state].items():\n",
    "                    value_on_next_state, reward, transition_probability = self.transition_to_next_state(state, action, current_values)\n",
    "                    value += probability_of_action * transition_probability * ( reward + discount * value_on_next_state )\n",
    "                    self.values[state] = value\n",
    "            steps += 1\n",
    "            delta = np.amax(np.absolute(current_values-self.values))\n",
    "        \n",
    "        print(np.round(self.values,1))\n",
    "        return steps"
   ]
  },
  {
   "cell_type": "code",
   "execution_count": 137,
   "id": "17bf3363",
   "metadata": {},
   "outputs": [
    {
     "name": "stdout",
     "output_type": "stream",
     "text": [
      "[[  0. -14. -20. -22.]\n",
      " [-14. -18. -20. -20.]\n",
      " [-20. -20. -18. -14.]\n",
      " [-22. -20. -14.   0.]]\n"
     ]
    },
    {
     "data": {
      "text/plain": [
       "131"
      ]
     },
     "execution_count": 137,
     "metadata": {},
     "output_type": "execute_result"
    }
   ],
   "source": [
    "gridworld = GridWorld(4,4,[(0,0), (3,3)])\n",
    "policy = np.full((gridworld.world_height, gridworld.world_width), {'up':0.25, 'down':0.25, 'right':0.25, 'left':0.25})\n",
    "gridworld.policy_evaluation(1.0, 0.001, policy)"
   ]
  },
  {
   "cell_type": "code",
   "execution_count": null,
   "id": "fbcfc894",
   "metadata": {},
   "outputs": [],
   "source": []
  }
 ],
 "metadata": {
  "kernelspec": {
   "display_name": "Python 3 (ipykernel)",
   "language": "python",
   "name": "python3"
  },
  "language_info": {
   "codemirror_mode": {
    "name": "ipython",
    "version": 3
   },
   "file_extension": ".py",
   "mimetype": "text/x-python",
   "name": "python",
   "nbconvert_exporter": "python",
   "pygments_lexer": "ipython3",
   "version": "3.9.16"
  }
 },
 "nbformat": 4,
 "nbformat_minor": 5
}
